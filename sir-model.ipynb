{
 "cells": [
  {
   "cell_type": "markdown",
   "metadata": {},
   "source": [
    "# SIR model simulation of the Kermack & McKendrick EDO system."
   ]
  },
  {
   "cell_type": "code",
   "execution_count": 44,
   "metadata": {},
   "outputs": [],
   "source": [
    "import numpy as np\n",
    "import matplotlib.pyplot as plt\n",
    "from matplotlib.animation import FuncAnimation\n",
    "import matplotlib.animation as animation\n",
    "from scipy.integrate import odeint"
   ]
  },
  {
   "cell_type": "code",
   "execution_count": 45,
   "metadata": {},
   "outputs": [],
   "source": [
    "# Constants\n",
    "states = {\n",
    "    'S': 0, # Susceptible\n",
    "    'I': 1, # Infected\n",
    "    'R': 2, # Recovered\n",
    "}"
   ]
  },
  {
   "cell_type": "code",
   "execution_count": 46,
   "metadata": {},
   "outputs": [],
   "source": [
    "# Parameters\n",
    "M, N = 32, 32 # Grid size\n",
    "T = 100 # Number of time steps\n",
    "I_0 = 5 # Initial number of infected individuals\n",
    "rad = 1 # Interaction radius\n",
    "beta = 0.3 # Infection rate (0 <= beta <= 1)\n",
    "gamma = 0.05 # Recovery rate (0 <= gamma <= 1)"
   ]
  },
  {
   "cell_type": "markdown",
   "metadata": {},
   "source": [
    "### Model Functions"
   ]
  },
  {
   "cell_type": "code",
   "execution_count": 47,
   "metadata": {},
   "outputs": [],
   "source": [
    "def initGrid(M, N, I_0, initial_positions=None):\n",
    "    \"\"\"\n",
    "    Initialize the grid with susceptible and infected individuals.\n",
    "\n",
    "    Args:\n",
    "    M, N (int): Grid dimensions\n",
    "    I_0 (int): Number of initial infected individuals\n",
    "    initial_positions (list): Optional list of (x, y) tuples for initial infected positions\n",
    "\n",
    "    Returns:\n",
    "    numpy.ndarray: Initialized grid\n",
    "    \"\"\"\n",
    "    grid = np.zeros((M, N))\n",
    "    if initial_positions is None:\n",
    "        for i in range(I_0):\n",
    "            x, y = np.random.randint(0, M), np.random.randint(0, N)\n",
    "            grid[x, y] = 1\n",
    "    else:\n",
    "        for x, y in initial_positions:\n",
    "            grid[x, y] = 1\n",
    "    return grid"
   ]
  },
  {
   "cell_type": "code",
   "execution_count": 48,
   "metadata": {},
   "outputs": [],
   "source": [
    "def getNeighbors(x, y, M, N, rad):\n",
    "    \"\"\"\n",
    "    Get the neighbors of a cell within a given radius.\n",
    "\n",
    "    Args:\n",
    "    x, y (int): Cell coordinates\n",
    "    M, N (int): Grid dimensions\n",
    "    rad (int): Radius for neighborhood\n",
    "\n",
    "    Returns:\n",
    "    list: List of neighboring cell coordinates\n",
    "    \"\"\"\n",
    "    neighbors = []\n",
    "    for i in range(-rad, rad + 1):\n",
    "        for j in range(-rad, rad + 1):\n",
    "            if i == 0 and j == 0:\n",
    "                continue\n",
    "            if 0 <= x + i < M and 0 <= y + j < N:\n",
    "                neighbors.append((x + i, y + j))\n",
    "    return neighbors"
   ]
  },
  {
   "cell_type": "code",
   "execution_count": 49,
   "metadata": {},
   "outputs": [],
   "source": [
    "def nextIteration(grid, rad, beta, gamma):\n",
    "    \"\"\"\n",
    "    Compute the next iteration of the SIR model.\n",
    "\n",
    "    Args:\n",
    "    grid (numpy.ndarray): Current state of the grid\n",
    "    rad (int): Radius for neighborhood\n",
    "    beta (float): Infection rate\n",
    "    gamma (float): Recovery rate\n",
    "\n",
    "    Returns:\n",
    "    tuple: Updated grid and counts of S, I, R individuals\n",
    "    \"\"\"\n",
    "    I, S, R = 0, 0, 0\n",
    "    M, N = grid.shape\n",
    "    newGrid = np.zeros((M, N))\n",
    "    for i in range(M):\n",
    "        for j in range(N):\n",
    "            if grid[i, j] == states['S']:\n",
    "                S += 1\n",
    "                infected_neighbors = sum(1 for x, y in getNeighbors(i, j, M, N, rad) if grid[x, y] == states['I'])\n",
    "                if infected_neighbors > 0 and np.random.random() < 1 - (1 - beta) ** infected_neighbors:\n",
    "                    newGrid[i, j] = states['I']\n",
    "                else:\n",
    "                    newGrid[i, j] = states['S']\n",
    "            elif grid[i, j] == states['I']:\n",
    "                I += 1\n",
    "                if np.random.random() < gamma:\n",
    "                    newGrid[i, j] = states['R']\n",
    "                else:\n",
    "                    newGrid[i, j] = states['I']\n",
    "            else:\n",
    "                R += 1\n",
    "                newGrid[i, j] = states['R']\n",
    "    return newGrid, S, I, R"
   ]
  },
  {
   "cell_type": "markdown",
   "metadata": {},
   "source": [
    "### Utility functions"
   ]
  },
  {
   "cell_type": "code",
   "execution_count": 163,
   "metadata": {},
   "outputs": [],
   "source": [
    "def createAnimation(gridHist, filename='sir_simulation', format='gif'):\n",
    "    \"\"\"\n",
    "    Create and save a gif of the grid evolution, showing the step number on each frame.\n",
    "\n",
    "    Args:\n",
    "    gridHist (list): List of grid states over time\n",
    "    filename (str): Name of the output gif file\n",
    "    format (str): Format of the output file (default: 'gif' | 'mp4')\n",
    "    \"\"\"\n",
    "    fig, ax = plt.subplots()\n",
    "    ims = []\n",
    "    for t, grid in enumerate(gridHist):\n",
    "        im = ax.imshow(grid, cmap='viridis', animated=True)\n",
    "        text = ax.text(0.02, 0.95, f'Step: {t}', transform=ax.transAxes, color='white',\n",
    "                       fontweight='bold', bbox=dict(facecolor='black', alpha=0.5))\n",
    "        ims.append([im, text])\n",
    "\n",
    "    if format == 'gif':\n",
    "        ani = animation.ArtistAnimation(fig, ims, interval=200, blit=False, repeat_delay=1000)\n",
    "        ani.save(f'{filename}.gif', writer='pillow')\n",
    "    elif format == 'mp4':\n",
    "        ani = animation.ArtistAnimation(fig, ims, interval=200, blit=False, repeat_delay=1000)\n",
    "        ani.save(f'{filename}.mp4', writer='ffmpeg')\n",
    "\n",
    "    plt.close()"
   ]
  },
  {
   "cell_type": "code",
   "execution_count": 161,
   "metadata": {},
   "outputs": [],
   "source": [
    "def evolutionPlot(SHist, IHist, RHist):\n",
    "    \"\"\"\n",
    "    Plot the evolution of S, I, R populations over time.\n",
    "\n",
    "    Args:\n",
    "    SHist, IHist, RHist (list): Lists of S, I, R counts over time\n",
    "    \"\"\"\n",
    "    plt.figure(figsize=(10, 6))\n",
    "    plt.plot(SHist, label='Susceptible')\n",
    "    plt.plot(IHist, label='Infected')\n",
    "    plt.plot(RHist, label='Recovered')\n",
    "    plt.xlabel('Time')\n",
    "    plt.ylabel('Number of individuals')\n",
    "    plt.legend()\n",
    "    plt.title('SIR Model Simulation')\n",
    "    plt.show()"
   ]
  },
  {
   "cell_type": "markdown",
   "metadata": {},
   "source": [
    "### Simulation Functions"
   ]
  },
  {
   "cell_type": "code",
   "execution_count": 52,
   "metadata": {},
   "outputs": [],
   "source": [
    "def simulation(M, N, T, I_0, rad, beta, gamma, initial_positions=None):\n",
    "    \"\"\"\n",
    "    Run a complete SIR model simulation.\n",
    "\n",
    "    Args:\n",
    "    M, N (int): Grid dimensions\n",
    "    T (int): Number of time steps\n",
    "    I_0 (int): Number of initial infected individuals\n",
    "    rad (int): Radius for neighborhood\n",
    "    beta (float): Infection rate\n",
    "    gamma (float): Recovery rate\n",
    "    initial_positions (list): Optional list of (x, y) tuples for initial infected positions\n",
    "\n",
    "    Returns:\n",
    "    tuple: Lists of grid states and S, I, R counts over time\n",
    "    \"\"\"\n",
    "    gridHist = []\n",
    "    IHist = []\n",
    "    SHist = []\n",
    "    RHist = []\n",
    "    grid = initGrid(M, N, I_0, initial_positions)\n",
    "    for _ in range(T):\n",
    "        grid, S, I, R = nextIteration(grid, rad, beta, gamma)\n",
    "        gridHist.append(grid)\n",
    "        SHist.append(S)\n",
    "        IHist.append(I)\n",
    "        RHist.append(R)\n",
    "    return gridHist, SHist, IHist, RHist"
   ]
  },
  {
   "cell_type": "code",
   "execution_count": 53,
   "metadata": {},
   "outputs": [],
   "source": [
    "def runMultipleSimulations(M, N, T, I_0, rad, beta, gamma, N_exp, initial_positions=None):\n",
    "    \"\"\"\n",
    "    Run multiple simulations and compute average dynamics.\n",
    "\n",
    "    Args:\n",
    "    M, N (int): Grid dimensions\n",
    "    T (int): Number of time steps\n",
    "    I_0 (int): Number of initial infected individuals\n",
    "    rad (int): Radius for neighborhood\n",
    "    beta (float): Infection rate\n",
    "    gamma (float): Recovery rate\n",
    "    N_exp (int): Number of experiments to run\n",
    "    initial_positions (list): Optional list of (x, y) tuples for initial infected positions\n",
    "\n",
    "    Returns:\n",
    "    tuple: Average S, I, R counts and grid states over time\n",
    "    \"\"\"\n",
    "    all_S = np.zeros((N_exp, T))\n",
    "    all_I = np.zeros((N_exp, T))\n",
    "    all_R = np.zeros((N_exp, T))\n",
    "    all_grids = np.zeros((N_exp, T, M, N))\n",
    "\n",
    "    for i in range(N_exp):\n",
    "        gridHist, SHist, IHist, RHist = simulation(M, N, T, I_0, rad, beta, gamma, initial_positions)\n",
    "        all_S[i] = SHist\n",
    "        all_I[i] = IHist\n",
    "        all_R[i] = RHist\n",
    "        all_grids[i] = gridHist\n",
    "\n",
    "    avg_S = np.mean(all_S, axis=0)\n",
    "    avg_I = np.mean(all_I, axis=0)\n",
    "    avg_R = np.mean(all_R, axis=0)\n",
    "    avg_grids = np.mean(all_grids, axis=0)\n",
    "\n",
    "    return avg_S, avg_I, avg_R, avg_grids"
   ]
  },
  {
   "cell_type": "markdown",
   "metadata": {},
   "source": [
    "### Evaluation Functions"
   ]
  },
  {
   "cell_type": "code",
   "execution_count": 54,
   "metadata": {},
   "outputs": [],
   "source": [
    "def theoretical_sir_model(y, t, N, beta, gamma):\n",
    "    \"\"\"\n",
    "    Corrected differential equations for the theoretical SIR model.\n",
    "\n",
    "    Args:\n",
    "    y (tuple): Current state (S, I, R)\n",
    "    t (float): Current time\n",
    "    N (int): Total population\n",
    "    beta (float): Infection rate\n",
    "    gamma (float): Recovery rate\n",
    "\n",
    "    Returns:\n",
    "    tuple: Rate of change for S, I, R\n",
    "    \"\"\"\n",
    "    S, I, R = y\n",
    "    dSdt = -beta * S * I / N\n",
    "    dIdt = beta * S * I / N - gamma * I\n",
    "    dRdt = gamma * I\n",
    "    return dSdt, dIdt, dRdt"
   ]
  },
  {
   "cell_type": "code",
   "execution_count": 55,
   "metadata": {},
   "outputs": [],
   "source": [
    "def run_theoretical_sir(S0, I0, R0, N, beta, gamma, T):\n",
    "    \"\"\"\n",
    "    Run the theoretical SIR model.\n",
    "\n",
    "    Args:\n",
    "    S0, I0, R0 (int): Initial number of susceptible, infected, and recovered individuals\n",
    "    N (int): Total population\n",
    "    beta (float): Infection rate\n",
    "    gamma (float): Recovery rate\n",
    "    T (int): Number of time steps\n",
    "\n",
    "    Returns:\n",
    "    tuple: Arrays of S, I, R values over time\n",
    "    \"\"\"\n",
    "    t = np.linspace(0, T-1, T)\n",
    "    y0 = S0, I0, R0\n",
    "    ret = odeint(theoretical_sir_model, y0, t, args=(N, beta, gamma))\n",
    "    S, I, R = ret.T\n",
    "    return S, I, R"
   ]
  },
  {
   "cell_type": "code",
   "execution_count": 56,
   "metadata": {},
   "outputs": [],
   "source": [
    "def normalize_data(data, total_population):\n",
    "    \"\"\"\n",
    "    Normalize data to 0-1 scale.\n",
    "\n",
    "    Args:\n",
    "    data (array): Data to normalize\n",
    "    total_population (int): Total population for scaling\n",
    "\n",
    "    Returns:\n",
    "    array: Normalized data\n",
    "    \"\"\"\n",
    "    return data / total_population\n"
   ]
  },
  {
   "cell_type": "code",
   "execution_count": 168,
   "metadata": {},
   "outputs": [],
   "source": [
    "def compare_plot_normalized(avg_S, avg_I, avg_R, theo_S, theo_I, theo_R, total_population, title='Comparison of Simulated and Theoretical SIR Models'):\n",
    "    \"\"\"\n",
    "    Create a comparison plot of normalized simulated and theoretical results.\n",
    "\n",
    "    Args:\n",
    "    avg_S, avg_I, avg_R (array): Average simulated S, I, R values\n",
    "    theo_S, theo_I, theo_R (array): Theoretical S, I, R values\n",
    "    total_population (int): Total population for normalization\n",
    "\n",
    "    Returns:\n",
    "    None (displays the plot)\n",
    "    \"\"\"\n",
    "    plt.figure(figsize=(12, 8))\n",
    "    plt.plot(normalize_data(avg_S, total_population), label='Simulated S', linestyle='--')\n",
    "    plt.plot(normalize_data(avg_I, total_population), label='Simulated I', linestyle='--')\n",
    "    plt.plot(normalize_data(avg_R, total_population), label='Simulated R', linestyle='--')\n",
    "    plt.plot(normalize_data(theo_S, total_population), label='Theoretical S')\n",
    "    plt.plot(normalize_data(theo_I, total_population), label='Theoretical I')\n",
    "    plt.plot(normalize_data(theo_R, total_population), label='Theoretical R')\n",
    "    plt.xlabel('Time')\n",
    "    plt.ylabel('Population')\n",
    "    plt.title(title)\n",
    "    plt.legend()\n",
    "    plt.grid(True)\n",
    "    plt.show()"
   ]
  },
  {
   "cell_type": "code",
   "execution_count": 58,
   "metadata": {},
   "outputs": [],
   "source": [
    "def calculate_normalized_mse(avg_S, avg_I, avg_R, theo_S, theo_I, theo_R, N_total):\n",
    "    \"\"\"\n",
    "    Calculate the normalized Mean Squared Error for SIR model components.\n",
    "\n",
    "    Args:\n",
    "    avg_S, avg_I, avg_R (array): Average simulated S, I, R values\n",
    "    theo_S, theo_I, theo_R (array): Theoretical S, I, R values\n",
    "    N_total (int): Total population for normalization\n",
    "\n",
    "    Returns:\n",
    "    tuple: MSE values for S, I, R, and total MSE\n",
    "    \"\"\"\n",
    "    def normalize_data(data):\n",
    "        return data / N_total\n",
    "\n",
    "    mse_S = np.mean((normalize_data(avg_S) - normalize_data(theo_S))**2)\n",
    "    mse_I = np.mean((normalize_data(avg_I) - normalize_data(theo_I))**2)\n",
    "    mse_R = np.mean((normalize_data(avg_R) - normalize_data(theo_R))**2)\n",
    "    total_mse = mse_S + mse_I + mse_R\n",
    "\n",
    "    return mse_S, mse_I, mse_R, total_mse"
   ]
  },
  {
   "cell_type": "markdown",
   "metadata": {},
   "source": [
    "## Testing the model"
   ]
  },
  {
   "cell_type": "code",
   "execution_count": 59,
   "metadata": {},
   "outputs": [],
   "source": [
    "# M, N = 100, 100  # Grid dimensions\n",
    "# T = 200  # Number of time steps\n",
    "# I_0 = 5  # Increase initial infected for faster spread\n",
    "# rad = 1  # Interaction radius\n",
    "# beta = 0.3  # Increase infection rate\n",
    "# gamma = 0.1  # Decrease recovery rate\n",
    "# N_exp = 50  # Increase number of experiments"
   ]
  },
  {
   "cell_type": "code",
   "execution_count": 157,
   "metadata": {},
   "outputs": [],
   "source": [
    "# # Single simulation\n",
    "# gridHist, SHist, IHist, RHist = simulation(M, N, T, I_0, rad, beta, gamma)\n",
    "# createGif(gridHist)\n",
    "# evolutionPlot(SHist, IHist, RHist)"
   ]
  },
  {
   "cell_type": "code",
   "execution_count": 61,
   "metadata": {},
   "outputs": [],
   "source": [
    "# Multiple simulations\n",
    "# N_exp = 50\n",
    "# avg_S, avg_I, avg_R, avg_grids = runMultipleSimulations(M, N, T, I_0, rad, beta, gamma, N_exp)\n",
    "# evolutionPlot(avg_S, avg_I, avg_R)\n",
    "# createGif(avg_grids, 'average_sir_simulation.gif')"
   ]
  },
  {
   "cell_type": "code",
   "execution_count": 62,
   "metadata": {},
   "outputs": [],
   "source": [
    "# Simulation with predefined initial positions\n",
    "# initial_positions = [(50, 50), (25, 25), (75, 75), (25, 75), (75, 25)]\n",
    "# gridHist, SHist, IHist, RHist = simulation(M, N, T, I_0, rad, beta, gamma, initial_positions)\n",
    "# createGif(gridHist, 'predefined_sir_simulation.gif')\n",
    "# evolutionPlot(SHist, IHist, RHist)"
   ]
  },
  {
   "cell_type": "markdown",
   "metadata": {},
   "source": [
    "# Ejercicios"
   ]
  },
  {
   "cell_type": "markdown",
   "metadata": {},
   "source": [
    "## Ejercicio 1"
   ]
  },
  {
   "cell_type": "markdown",
   "metadata": {},
   "source": [
    "## Ejercicio 2"
   ]
  },
  {
   "cell_type": "code",
   "execution_count": 167,
   "metadata": {},
   "outputs": [],
   "source": [
    "M, N = 100, 100  # Grid dimensions\n",
    "T = 130  # Number of time steps\n",
    "I_0 = 2  # Increase initial infected for faster spread\n",
    "rad = 1  # Interaction radius\n",
    "beta = 0.1  # Increase infection rate\n",
    "gamma = 0.25  # Decrease recovery rate\n",
    "N_exp = 50  # Number of experiments\n",
    "\n",
    "N_total = M * N\n",
    "avg_S, avg_I, avg_R, avg_grids = runMultipleSimulations(M, N, T, I_0, rad, beta, gamma, N_exp)"
   ]
  },
  {
   "cell_type": "code",
   "execution_count": 171,
   "metadata": {},
   "outputs": [
    {
     "data": {
      "image/png": "[encoded data removed]",
      "text/plain": [
       "<Figure size 1200x800 with 1 Axes>"
      ]
     },
     "metadata": {},
     "output_type": "display_data"
    },
    {
     "name": "stdout",
     "output_type": "stream",
     "text": [
      "Normalized Mean Squared Error:\n",
      "S: 0.018084689406363312\n",
      "I: 8.03249014516519e-05\n",
      "R: 0.015874054732266375\n",
      "Total: 0.03403906904008134\n"
     ]
    }
   ],
   "source": [
    "# Run theoretical model\n",
    "S0, I0, R0 = N_total - I_0, I_0, 0\n",
    "theo_S, theo_I, theo_R = run_theoretical_sir(S0, I0, R0, N_total, beta, gamma, T)\n",
    "\n",
    "# Create normalized comparison plot\n",
    "compare_plot_normalized(avg_S, avg_I, avg_R, theo_S, theo_I, theo_R, N_total, title='Simulated vs Theoretical SIR Models')\n",
    "\n",
    "# Calculate normalized Mean Squared Error\n",
    "mse_S, mse_I, mse_R, total_mse = calculate_normalized_mse(avg_S, avg_I, avg_R, theo_S, theo_I, theo_R, N_total)\n",
    "\n",
    "print(f\"Normalized Mean Squared Error:\")\n",
    "print(f\"S: {mse_S}\")\n",
    "print(f\"I: {mse_I}\")\n",
    "print(f\"R: {mse_R}\")\n",
    "print(f\"Total: {total_mse}\")"
   ]
  }
 ],
 "metadata": {
  "kernelspec": {
   "display_name": "Python 3",
   "language": "python",
   "name": "python3"
  },
  "language_info": {
   "codemirror_mode": {
    "name": "ipython",
    "version": 3
   },
   "file_extension": ".py",
   "mimetype": "text/x-python",
   "name": "python",
   "nbconvert_exporter": "python",
   "pygments_lexer": "ipython3",
   "version": "3.12.4"
  }
 },
 "nbformat": 4,
 "nbformat_minor": 2
}
